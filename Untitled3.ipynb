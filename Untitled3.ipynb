{
 "cells": [
  {
   "cell_type": "code",
   "execution_count": 2,
   "id": "e8e582e9-3c1f-4c3f-9e13-90eb6fd124fe",
   "metadata": {},
   "outputs": [],
   "source": [
    "import pandas as pd"
   ]
  },
  {
   "cell_type": "code",
   "execution_count": 3,
   "id": "c1764619-e71b-403f-9422-3864ace8cb43",
   "metadata": {},
   "outputs": [],
   "source": [
    "df=pd.read_csv(\"data.csv\")"
   ]
  },
  {
   "cell_type": "code",
   "execution_count": 1,
   "id": "9c215a41-848c-4acd-8138-b9974b0d7518",
   "metadata": {},
   "outputs": [],
   "source": [
    "# Q1. Explain Class and Object with respect to Object-Oriented Programming. Give a suitable example."
   ]
  },
  {
   "cell_type": "code",
   "execution_count": 2,
   "id": "29c1622a-2b4f-4367-bf40-5267eb977bb7",
   "metadata": {},
   "outputs": [
    {
     "data": {
      "text/plain": [
       "'class is like a data type which hold its own member function which can used by calling this class\\n It is the blueprint of any object. Once we have written a class and defined it, we can use it to create\\n as many objects based on that\\n object is an instance of class it can be accessed by calling a class it does not allocate memory still initialize'"
      ]
     },
     "execution_count": 2,
     "metadata": {},
     "output_type": "execute_result"
    }
   ],
   "source": [
    "\"\"\"class is like a data type which hold its own member function which can used by calling this class\n",
    " It is the blueprint of any object. Once we have written a class and defined it, we can use it to create\n",
    " as many objects based on that\n",
    " object is an instance of class it can be accessed by calling a class it does not allocate memory still initialize\"\"\"\n"
   ]
  },
  {
   "cell_type": "code",
   "execution_count": 3,
   "id": "49611d32-9b16-4b0e-8587-0ae63d29b479",
   "metadata": {},
   "outputs": [],
   "source": [
    "# Q2. Name the four pillars of OOPs."
   ]
  },
  {
   "cell_type": "code",
   "execution_count": 5,
   "id": "a27a0cee-c06d-455d-9c28-7d02843120ff",
   "metadata": {},
   "outputs": [
    {
     "data": {
      "text/plain": [
       "'Four pillar of oops are \\n1)polymorphism\\n2)inheritance\\n3)abstraction\\n4)encapsulations'"
      ]
     },
     "execution_count": 5,
     "metadata": {},
     "output_type": "execute_result"
    }
   ],
   "source": [
    "\"\"\"Four pillar of oops are \n",
    "1)polymorphism\n",
    "2)inheritance\n",
    "3)abstraction\n",
    "4)encapsulations\"\"\""
   ]
  },
  {
   "cell_type": "code",
   "execution_count": 6,
   "id": "53c6f081-2a38-40b4-bc6e-469228a8ed67",
   "metadata": {},
   "outputs": [],
   "source": [
    "# Q3. Explain why the __init__() function is used. Give a suitable example."
   ]
  },
  {
   "cell_type": "code",
   "execution_count": 9,
   "id": "ffa40c65-e16a-4e8b-9f58-4b93f179b7e5",
   "metadata": {},
   "outputs": [],
   "source": [
    "# __init__ function are used to with def keyword to create a function it allow user to take his input"
   ]
  },
  {
   "cell_type": "code",
   "execution_count": 27,
   "id": "bdb016b3-4e60-42a4-90b8-19ef784e7b2c",
   "metadata": {},
   "outputs": [],
   "source": [
    "class person:\n",
    "    \n",
    "    def __init__(self,name,lastname):\n",
    "        self.name=name\n",
    "        self.lastname=lastname\n",
    "    def get_data(self):\n",
    "        return self.name,self.lastname"
   ]
  },
  {
   "cell_type": "code",
   "execution_count": 28,
   "id": "74c9f52e-99a2-4f71-ad7e-fe2a46c2552e",
   "metadata": {},
   "outputs": [],
   "source": [
    "person1=person(\"harsh\",\"shinde\")"
   ]
  },
  {
   "cell_type": "code",
   "execution_count": 30,
   "id": "6103cb68-6a1c-4ba9-ba6b-c9bbc0be36d5",
   "metadata": {},
   "outputs": [
    {
     "data": {
      "text/plain": [
       "('harsh', 'shinde')"
      ]
     },
     "execution_count": 30,
     "metadata": {},
     "output_type": "execute_result"
    }
   ],
   "source": [
    "person1.get_data()"
   ]
  },
  {
   "cell_type": "code",
   "execution_count": null,
   "id": "a975dc37-05f1-43e8-8aa8-f2beee2684d6",
   "metadata": {},
   "outputs": [],
   "source": []
  },
  {
   "cell_type": "code",
   "execution_count": 31,
   "id": "4d110a4c-5f83-444a-9255-d59fb78923d8",
   "metadata": {},
   "outputs": [],
   "source": [
    "# Q4. Why self is used in OOPs?"
   ]
  },
  {
   "cell_type": "code",
   "execution_count": 34,
   "id": "dc92cff5-76a7-4ce8-bd0f-2797e3272d8d",
   "metadata": {},
   "outputs": [
    {
     "data": {
      "text/plain": [
       "'Self is used in oops beacause function interacy with the class\\nby using self we can access method of the class'"
      ]
     },
     "execution_count": 34,
     "metadata": {},
     "output_type": "execute_result"
    }
   ],
   "source": [
    "\"\"\"Self is used in oops beacause function interacy with the class\n",
    "by using self we can access method of the class\"\"\""
   ]
  },
  {
   "cell_type": "code",
   "execution_count": null,
   "id": "c142a4a0-19f7-4458-bb9a-99dbcf8d732d",
   "metadata": {},
   "outputs": [],
   "source": []
  },
  {
   "cell_type": "code",
   "execution_count": 33,
   "id": "e96fa223-2c3b-422d-adb4-f90ead9e88c0",
   "metadata": {},
   "outputs": [],
   "source": [
    "# Q5. What is inheritance? Give an example for each type of inheritance."
   ]
  },
  {
   "cell_type": "code",
   "execution_count": 35,
   "id": "dcb7df6c-b215-40f5-a019-9ae6f31a0fca",
   "metadata": {},
   "outputs": [
    {
     "data": {
      "text/plain": [
       "'Inheritance is the calling a class from another class to access class\\ncalling from chield class to parent class'"
      ]
     },
     "execution_count": 35,
     "metadata": {},
     "output_type": "execute_result"
    }
   ],
   "source": [
    "\"\"\"Inheritance is the calling a class from another class to access class\n",
    "calling from chield class to parent class\"\"\""
   ]
  },
  {
   "cell_type": "code",
   "execution_count": 36,
   "id": "f7013347-2374-4196-8f2f-e6327b12dbb9",
   "metadata": {},
   "outputs": [],
   "source": [
    "class test:\n",
    "    def test1():\n",
    "        return \"hello from test1\""
   ]
  },
  {
   "cell_type": "code",
   "execution_count": 37,
   "id": "2fee0803-6fcc-4fd5-b6e0-d1961417e9bf",
   "metadata": {},
   "outputs": [],
   "source": [
    "class chield_class(test):\n",
    "    pass"
   ]
  },
  {
   "cell_type": "code",
   "execution_count": 38,
   "id": "c5cbf02e-cc0f-4825-a0e5-3c4d2cdb1d5a",
   "metadata": {},
   "outputs": [],
   "source": [
    "chield_object=chield_class"
   ]
  },
  {
   "cell_type": "code",
   "execution_count": null,
   "id": "0cc03351-6852-4910-90c1-3929ff979a46",
   "metadata": {},
   "outputs": [],
   "source": [
    "chield_object.chield_object"
   ]
  }
 ],
 "metadata": {
  "kernelspec": {
   "display_name": "Python 3 (ipykernel)",
   "language": "python",
   "name": "python3"
  },
  "language_info": {
   "codemirror_mode": {
    "name": "ipython",
    "version": 3
   },
   "file_extension": ".py",
   "mimetype": "text/x-python",
   "name": "python",
   "nbconvert_exporter": "python",
   "pygments_lexer": "ipython3",
   "version": "3.10.8"
  }
 },
 "nbformat": 4,
 "nbformat_minor": 5
}
